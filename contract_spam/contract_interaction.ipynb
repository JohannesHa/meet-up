{
 "cells": [
  {
   "cell_type": "code",
   "execution_count": null,
   "metadata": {},
   "outputs": [],
   "source": [
    "from web3 import HTTPProvider, Web3\n",
    "import json\n",
    "import os"
   ]
  },
  {
   "cell_type": "code",
   "execution_count": null,
   "metadata": {},
   "outputs": [],
   "source": [
    "RPC_HOST = 'localhost'\n",
    "RPC_PORT = '8545'\n",
    "W3 = Web3(HTTPProvider('http://' + RPC_HOST+':'+RPC_PORT))\n",
    "MEETUP_GROUP_FACTORY_ADDRESS = Web3.toChecksumAddress('0x4507e90832a4a17eb15b107d817bb0ceb3430849')\n",
    "ENS_FACTORY_ADDRESS = Web3.toChecksumAddress('0xb517c0842a63995cea94929a5160386dffa5cc58')"
   ]
  },
  {
   "cell_type": "code",
   "execution_count": null,
   "metadata": {},
   "outputs": [],
   "source": [
    "def load_interface(interface_name):\n",
    "    with open('../build/contracts/'+ interface_name + '.json', 'r') as f:\n",
    "        interface = json.load(f)\n",
    "    return interface"
   ]
  },
  {
   "cell_type": "code",
   "execution_count": null,
   "metadata": {},
   "outputs": [],
   "source": [
    "meetup_group_factory_interface = load_interface('MeetupGroupFactory')\n",
    "meetup_group_contract_interface = load_interface('MeetupGroup')\n",
    "event_contract_interface = load_interface('Conference')\n",
    "ens_factory_interface = load_interface('EnsSubdomainFactory')"
   ]
  },
  {
   "cell_type": "code",
   "execution_count": null,
   "metadata": {},
   "outputs": [],
   "source": [
    "meetup_group_factory_contract = W3.eth.contract(address=MEETUP_GROUP_FACTORY_ADDRESS, abi=meetup_group_factory_interface['abi'])\n",
    "ens_factory_contract = W3.eth.contract(address=ENS_FACTORY_ADDRESS, abi=ens_factory_interface['abi'])"
   ]
  },
  {
   "cell_type": "code",
   "execution_count": null,
   "metadata": {},
   "outputs": [],
   "source": [
    "ens_factory_contract.functions.owner().call() == W3.eth.accounts[0]"
   ]
  },
  {
   "cell_type": "code",
   "execution_count": null,
   "metadata": {},
   "outputs": [],
   "source": [
    "tx_hash = meetup_group_factory_contract.functions.createGroup(\n",
    "    'YogaBerlin', \n",
    "    'Germany',\n",
    "    'Berlin',\n",
    "    'Sports',\n",
    "    'We do cool yoga sessions',\n",
    "    Web3.toBytes(text='logo')\n",
    ").transact({'from': W3.eth.accounts[0], 'gas': 6200000})\n",
    "tx_receipt = W3.eth.waitForTransactionReceipt(tx_hash)"
   ]
  },
  {
   "cell_type": "code",
   "execution_count": null,
   "metadata": {},
   "outputs": [],
   "source": [
    "group_contract_address = meetup_group_factory_contract.functions.groups(0).call()"
   ]
  },
  {
   "cell_type": "raw",
   "metadata": {},
   "source": [
    "ens_factory_contract.functions.newSubdomain(\n",
    "    'YogaBerlin',\n",
    "    'meet-up',\n",
    "    W3.eth.accounts[0],\n",
    "    group_contract_address\n",
    ").transact({'from': W3.eth.accounts[0], 'gas': 6200000})"
   ]
  },
  {
   "cell_type": "code",
   "execution_count": null,
   "metadata": {},
   "outputs": [],
   "source": [
    "group_contract = W3.eth.contract(address=group_contract_address, abi=meetup_group_contract_interface['abi'])"
   ]
  },
  {
   "cell_type": "code",
   "execution_count": null,
   "metadata": {},
   "outputs": [],
   "source": [
    "group_contract.functions.joinGroup().transact({'from': W3.eth.accounts[1], 'gas': 6200000})"
   ]
  },
  {
   "cell_type": "code",
   "execution_count": null,
   "metadata": {},
   "outputs": [],
   "source": [
    "tx_hash = group_contract.functions.createEvent(\n",
    "    'YogaBerlin1',\n",
    "    Web3.toWei(0.001, 'ether'),\n",
    "    50,\n",
    "    100,\n",
    "    'Test',\n",
    "    12345,\n",
    "    Web3.toBytes(1)\n",
    ").transact({'from': W3.eth.accounts[0], 'gas': 6200000})\n",
    "tx_receipt = W3.eth.waitForTransactionReceipt(tx_hash)"
   ]
  },
  {
   "cell_type": "code",
   "execution_count": null,
   "metadata": {},
   "outputs": [],
   "source": [
    "event_contract_address = group_contract.functions.events(0).call()"
   ]
  },
  {
   "cell_type": "code",
   "execution_count": null,
   "metadata": {},
   "outputs": [],
   "source": [
    "event_contract = W3.eth.contract(address=event_contract_address, abi=event_contract_interface['abi'])"
   ]
  },
  {
   "cell_type": "code",
   "execution_count": null,
   "metadata": {},
   "outputs": [],
   "source": [
    "event_contract.functions.register().transact({'from': W3.eth.accounts[1], 'value': Web3.toWei(0.001, 'ether')})"
   ]
  },
  {
   "cell_type": "code",
   "execution_count": null,
   "metadata": {},
   "outputs": [],
   "source": []
  },
  {
   "cell_type": "code",
   "execution_count": null,
   "metadata": {},
   "outputs": [],
   "source": []
  },
  {
   "cell_type": "code",
   "execution_count": null,
   "metadata": {},
   "outputs": [],
   "source": []
  },
  {
   "cell_type": "code",
   "execution_count": null,
   "metadata": {},
   "outputs": [],
   "source": []
  },
  {
   "cell_type": "code",
   "execution_count": null,
   "metadata": {},
   "outputs": [],
   "source": []
  }
 ],
 "metadata": {
  "kernelspec": {
   "display_name": "Python 3",
   "language": "python",
   "name": "python3"
  },
  "language_info": {
   "codemirror_mode": {
    "name": "ipython",
    "version": 3
   },
   "file_extension": ".py",
   "mimetype": "text/x-python",
   "name": "python",
   "nbconvert_exporter": "python",
   "pygments_lexer": "ipython3",
   "version": "3.6.5"
  }
 },
 "nbformat": 4,
 "nbformat_minor": 2
}
